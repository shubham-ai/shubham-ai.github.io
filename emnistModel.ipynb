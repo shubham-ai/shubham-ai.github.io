{
 "cells": [
  {
   "cell_type": "code",
   "execution_count": 180,
   "metadata": {},
   "outputs": [],
   "source": [
    "import numpy as np\n",
    "import pandas as pd\n",
    "import matplotlib.pyplot as plt\n",
    "\n",
    "from sklearn.model_selection import train_test_split\n",
    "import cv2\n",
    "\n",
    "#keras\n",
    "from keras.models import Sequential\n",
    "from keras.layers import Dense, Dropout, Flatten, Activation\n",
    "from keras.layers import Conv2D, MaxPooling2D, Convolution2D\n",
    "from keras.utils import np_utils\n",
    "import sklearn.metrics as metrics\n",
    "import tensorflowjs as tfjs\n"
   ]
  },
  {
   "cell_type": "code",
   "execution_count": 181,
   "metadata": {},
   "outputs": [
    {
     "name": "stdout",
     "output_type": "stream",
     "text": [
      "Train: (112799, 785), Test: (18799, 785), Map: (47,)\n"
     ]
    }
   ],
   "source": [
    "train = pd.read_csv(\"emnist/emnist-balanced-train.csv\",delimiter = ',')\n",
    "test = pd.read_csv(\"emnist/emnist-balanced-test.csv\", delimiter = ',')\n",
    "mapp = pd.read_csv(\"emnist/emnist-balanced-mapping.txt\", delimiter = ' ', \\\n",
    "                   index_col=0, header=None, squeeze=True)\n",
    "print(\"Train: %s, Test: %s, Map: %s\" %(train.shape, test.shape, mapp.shape))\n",
    "\n",
    "\n"
   ]
  },
  {
   "cell_type": "code",
   "execution_count": 182,
   "metadata": {},
   "outputs": [],
   "source": [
    "HEIGHT = 28\n",
    "WIDTH = 28"
   ]
  },
  {
   "cell_type": "code",
   "execution_count": 183,
   "metadata": {},
   "outputs": [],
   "source": [
    "train_x = train.iloc[:,1:]\n",
    "train_y = train.iloc[:,0]\n",
    "del train\n",
    "\n",
    "test_x = test.iloc[:,1:]\n",
    "test_y = test.iloc[:,0]\n",
    "del test"
   ]
  },
  {
   "cell_type": "code",
   "execution_count": 184,
   "metadata": {},
   "outputs": [],
   "source": [
    "def rotate(image):\n",
    "    image = image.reshape([HEIGHT, WIDTH])\n",
    "    image = np.fliplr(image)\n",
    "    image = np.rot90(image)\n",
    "    return image"
   ]
  },
  {
   "cell_type": "code",
   "execution_count": 185,
   "metadata": {},
   "outputs": [
    {
     "name": "stdout",
     "output_type": "stream",
     "text": [
      "train_x: (112799, 28, 28)\n",
      "test_x: (18799, 28, 28)\n"
     ]
    }
   ],
   "source": [
    "train_x = np.asarray(train_x)\n",
    "train_x = np.apply_along_axis(rotate, 1, train_x)\n",
    "print (\"train_x:\",train_x.shape)\n",
    "\n",
    "test_x = np.asarray(test_x)\n",
    "test_x = np.apply_along_axis(rotate, 1, test_x)\n",
    "print (\"test_x:\",test_x.shape)"
   ]
  },
  {
   "cell_type": "code",
   "execution_count": 186,
   "metadata": {},
   "outputs": [],
   "source": [
    "\n",
    "train_x = train_x.astype('float32')\n",
    "train_x /= 255\n",
    "test_x = test_x.astype('float32')\n",
    "test_x /= 255"
   ]
  },
  {
   "cell_type": "code",
   "execution_count": 187,
   "metadata": {},
   "outputs": [
    {
     "data": {
      "image/png": "[encoded data removed]",
      "text/plain": [
       "<Figure size 432x288 with 8 Axes>"
      ]
     },
     "metadata": {},
     "output_type": "display_data"
    }
   ],
   "source": [
    "for i in range(1, 9):\n",
    "    plt.subplot(330 + (i+1))\n",
    "    plt.imshow(train_x[i], cmap=plt.get_cmap('gray'))\n",
    "    \n",
    "    plt.title(chr(mapp[train_y[i]]))"
   ]
  },
  {
   "cell_type": "code",
   "execution_count": 188,
   "metadata": {},
   "outputs": [
    {
     "data": {
      "text/plain": [
       "47"
      ]
     },
     "execution_count": 188,
     "metadata": {},
     "output_type": "execute_result"
    }
   ],
   "source": [
    "num_classes = len(set(train_y))\n",
    "num_classes"
   ]
  },
  {
   "cell_type": "code",
   "execution_count": 189,
   "metadata": {},
   "outputs": [
    {
     "name": "stdout",
     "output_type": "stream",
     "text": [
      "train_y:  (112799, 47)\n",
      "test_y:  (18799, 47)\n"
     ]
    }
   ],
   "source": [
    "train_y = np_utils.to_categorical(train_y, num_classes)\n",
    "test_y = np_utils.to_categorical(test_y, num_classes)\n",
    "print(\"train_y: \", train_y.shape)\n",
    "print(\"test_y: \", test_y.shape)"
   ]
  },
  {
   "cell_type": "code",
   "execution_count": 190,
   "metadata": {},
   "outputs": [],
   "source": [
    "train_x = train_x.reshape(-1, HEIGHT, WIDTH, 1)\n",
    "test_x = test_x.reshape(-1, HEIGHT, WIDTH, 1)\n",
    "\n"
   ]
  },
  {
   "cell_type": "code",
   "execution_count": 191,
   "metadata": {},
   "outputs": [
    {
     "data": {
      "text/plain": [
       "(112799, 28, 28, 1)"
      ]
     },
     "execution_count": 191,
     "metadata": {},
     "output_type": "execute_result"
    }
   ],
   "source": [
    "train_x.shape\n"
   ]
  },
  {
   "cell_type": "code",
   "execution_count": 192,
   "metadata": {},
   "outputs": [],
   "source": [
    "train_x, val_x, train_y, val_y = train_test_split(train_x, train_y, test_size= 0.10, random_state=7)\n",
    "\n",
    "\n"
   ]
  },
  {
   "cell_type": "markdown",
   "metadata": {},
   "source": [
    "# CNN"
   ]
  },
  {
   "cell_type": "code",
   "execution_count": 197,
   "metadata": {},
   "outputs": [
    {
     "name": "stdout",
     "output_type": "stream",
     "text": [
      "_________________________________________________________________\n",
      "Layer (type)                 Output Shape              Param #   \n",
      "=================================================================\n",
      "conv2d_9 (Conv2D)            (None, 28, 28, 128)       3328      \n",
      "_________________________________________________________________\n",
      "max_pooling2d_9 (MaxPooling2 (None, 14, 14, 128)       0         \n",
      "_________________________________________________________________\n",
      "conv2d_10 (Conv2D)           (None, 14, 14, 64)        73792     \n",
      "_________________________________________________________________\n",
      "max_pooling2d_10 (MaxPooling (None, 7, 7, 64)          0         \n",
      "_________________________________________________________________\n",
      "flatten_5 (Flatten)          (None, 3136)              0         \n",
      "_________________________________________________________________\n",
      "dense_53 (Dense)             (None, 2000)              6274000   \n",
      "_________________________________________________________________\n",
      "dropout_21 (Dropout)         (None, 2000)              0         \n",
      "_________________________________________________________________\n",
      "dense_54 (Dense)             (None, 1500)              3001500   \n",
      "_________________________________________________________________\n",
      "dropout_22 (Dropout)         (None, 1500)              0         \n",
      "_________________________________________________________________\n",
      "dense_55 (Dense)             (None, 1000)              1501000   \n",
      "_________________________________________________________________\n",
      "dense_56 (Dense)             (None, 700)               700700    \n",
      "_________________________________________________________________\n",
      "dropout_23 (Dropout)         (None, 700)               0         \n",
      "_________________________________________________________________\n",
      "dense_57 (Dense)             (None, 700)               490700    \n",
      "_________________________________________________________________\n",
      "dropout_24 (Dropout)         (None, 700)               0         \n",
      "_________________________________________________________________\n",
      "dense_58 (Dense)             (None, 400)               280400    \n",
      "_________________________________________________________________\n",
      "dense_59 (Dense)             (None, 200)               80200     \n",
      "_________________________________________________________________\n",
      "dense_60 (Dense)             (None, 130)               26130     \n",
      "_________________________________________________________________\n",
      "dropout_25 (Dropout)         (None, 130)               0         \n",
      "_________________________________________________________________\n",
      "dense_61 (Dense)             (None, 70)                9170      \n",
      "_________________________________________________________________\n",
      "dense_62 (Dense)             (None, 47)                3337      \n",
      "=================================================================\n",
      "Total params: 12,444,257\n",
      "Trainable params: 12,444,257\n",
      "Non-trainable params: 0\n",
      "_________________________________________________________________\n"
     ]
    }
   ],
   "source": [
    "model = Sequential()\n",
    "\n",
    "model.add(Conv2D(filters=128, kernel_size=(5,5), padding = 'same', activation='relu',\\\n",
    "                 input_shape=(HEIGHT, WIDTH,1)))\n",
    "model.add(MaxPooling2D(pool_size=(2,2), strides=(2,2)))\n",
    "model.add(Conv2D(filters=64, kernel_size=(3,3) , padding = 'same', activation='relu'))\n",
    "model.add(MaxPooling2D(pool_size=(2,2)))\n",
    "\n",
    "model.add(Flatten())\n",
    "model.add(Dense(units=2000, activation='relu'))\n",
    "model.add(Dropout(.07))\n",
    "model.add(Dense(units=1500, activation='relu'))\n",
    "model.add(Dropout(.05))\n",
    "\n",
    "model.add(Dense(units=1000, activation='relu'))\n",
    "model.add(Dense(units=700, activation='relu'))\n",
    "model.add(Dropout(.05))\n",
    "\n",
    "\n",
    "model.add(Dense(units=700, activation='relu'))\n",
    "\n",
    "model.add(Dropout(.05))\n",
    "\n",
    "model.add(Dense(units=400, activation='relu'))\n",
    "\n",
    "model.add(Dense(units=200, activation='relu'))\n",
    "model.add(Dense(units=130, activation='relu'))\n",
    "model.add(Dropout(.1))\n",
    "\n",
    "model.add(Dense(units=70, activation='relu'))\n",
    "\n",
    "\n",
    "model.add(Dense(units=num_classes, activation='softmax'))\n",
    "\n",
    "model.summary()\n"
   ]
  },
  {
   "cell_type": "code",
   "execution_count": 198,
   "metadata": {},
   "outputs": [],
   "source": [
    "model.compile(loss='categorical_crossentropy', optimizer='adam', metrics=['accuracy'])\n"
   ]
  },
  {
   "cell_type": "markdown",
   "metadata": {},
   "source": [
    "# Cnn"
   ]
  },
  {
   "cell_type": "code",
   "execution_count": 199,
   "metadata": {},
   "outputs": [
    {
     "name": "stdout",
     "output_type": "stream",
     "text": [
      "Train on 101519 samples, validate on 11280 samples\n",
      "Epoch 1/10\n",
      "101519/101519 [==============================] - 331s 3ms/step - loss: 1.5185 - acc: 0.5486 - val_loss: 0.6358 - val_acc: 0.7860\n",
      "Epoch 2/10\n",
      "101519/101519 [==============================] - 356s 4ms/step - loss: 0.5131 - acc: 0.8294 - val_loss: 0.4348 - val_acc: 0.8527\n",
      "Epoch 3/10\n",
      "101519/101519 [==============================] - 347s 3ms/step - loss: 0.3995 - acc: 0.8662 - val_loss: 0.3982 - val_acc: 0.8603\n",
      "Epoch 4/10\n",
      "101519/101519 [==============================] - 358s 4ms/step - loss: 0.3546 - acc: 0.8777 - val_loss: 0.4015 - val_acc: 0.8695\n",
      "Epoch 5/10\n",
      "101519/101519 [==============================] - 359s 4ms/step - loss: 0.3219 - acc: 0.8869 - val_loss: 0.3920 - val_acc: 0.8676\n",
      "Epoch 6/10\n",
      "101519/101519 [==============================] - 364s 4ms/step - loss: 0.2937 - acc: 0.8943 - val_loss: 0.3912 - val_acc: 0.8714\n",
      "Epoch 7/10\n",
      "101519/101519 [==============================] - 355s 3ms/step - loss: 0.2724 - acc: 0.9015 - val_loss: 0.3749 - val_acc: 0.8746\n",
      "Epoch 8/10\n",
      "101519/101519 [==============================] - 325s 3ms/step - loss: 0.2552 - acc: 0.9070 - val_loss: 0.3728 - val_acc: 0.8816\n",
      "Epoch 9/10\n",
      "101519/101519 [==============================] - 343s 3ms/step - loss: 0.2412 - acc: 0.9118 - val_loss: 0.3953 - val_acc: 0.8774\n",
      "Epoch 10/10\n",
      "101519/101519 [==============================] - 370s 4ms/step - loss: 0.2308 - acc: 0.9149 - val_loss: 0.3892 - val_acc: 0.8760\n"
     ]
    }
   ],
   "source": [
    "history = model.fit(train_x, train_y, epochs=10, batch_size=512, verbose=1, \\\n",
    "                    validation_data=(val_x, val_y))\n"
   ]
  },
  {
   "cell_type": "code",
   "execution_count": 200,
   "metadata": {},
   "outputs": [],
   "source": [
    "\n",
    "def plotgraph(epochs, acc, val_acc):\n",
    "    # Plot training & validation accuracy values\n",
    "    plt.plot(epochs, acc, 'b')\n",
    "    plt.plot(epochs, val_acc, 'r')\n",
    "    plt.title('Model accuracy')\n",
    "    plt.ylabel('Accuracy')\n",
    "    plt.xlabel('Epoch')\n",
    "    plt.legend(['Train', 'Val'], loc='upper left')\n",
    "    plt.show()\n",
    "\n"
   ]
  },
  {
   "cell_type": "code",
   "execution_count": 201,
   "metadata": {},
   "outputs": [],
   "source": [
    "acc = history.history['acc']\n",
    "val_acc = history.history['val_acc']\n",
    "loss = history.history['loss']\n",
    "val_loss = history.history['val_loss']\n",
    "epochs = range(1,len(acc)+1)\n"
   ]
  },
  {
   "cell_type": "code",
   "execution_count": 202,
   "metadata": {},
   "outputs": [
    {
     "data": {
      "image/png": "[encoded data removed]",
      "text/plain": [
       "<Figure size 432x288 with 1 Axes>"
      ]
     },
     "metadata": {},
     "output_type": "display_data"
    }
   ],
   "source": [
    "plotgraph(epochs, acc, val_acc)\n"
   ]
  },
  {
   "cell_type": "code",
   "execution_count": 203,
   "metadata": {},
   "outputs": [
    {
     "data": {
      "image/png": "[encoded data removed]",
      "text/plain": [
       "<Figure size 432x288 with 1 Axes>"
      ]
     },
     "metadata": {},
     "output_type": "display_data"
    }
   ],
   "source": [
    "plotgraph(epochs, loss, val_loss)\n"
   ]
  },
  {
   "cell_type": "code",
   "execution_count": 215,
   "metadata": {},
   "outputs": [
    {
     "name": "stdout",
     "output_type": "stream",
     "text": [
      "101519/101519 [==============================] - 97s 958us/step\n"
     ]
    }
   ],
   "source": [
    "scores = model.evaluate(train_x, train_y)"
   ]
  },
  {
   "cell_type": "code",
   "execution_count": 216,
   "metadata": {},
   "outputs": [
    {
     "name": "stdout",
     "output_type": "stream",
     "text": [
      "[INFO] test score - 0.2070744130001018\n",
      "[INFO] test accuracy - 0.9219751967617845\n"
     ]
    }
   ],
   "source": [
    "print (\"[INFO] test score - {}\".format(scores[0]))\n",
    "print (\"[INFO] test accuracy - {}\".format(scores[1]))\n"
   ]
  },
  {
   "cell_type": "code",
   "execution_count": 214,
   "metadata": {},
   "outputs": [],
   "source": [
    "model_save_path     = \"output/cnn\"\n",
    "\n",
    "\n",
    "tfjs.converters.save_keras_model(model, model_save_path)\n",
    "\n"
   ]
  },
  {
   "cell_type": "code",
   "execution_count": 210,
   "metadata": {},
   "outputs": [],
   "source": [
    "def run_prediction(idx):\n",
    "    result = np.argmax(model.predict(test_x[idx:idx+1]))\n",
    "    print('Prediction: ', result, ', Char: ', mapp[result])\n",
    "    print(\"Label: \", np.argmax(test_y[idx:idx+1]))\n",
    "    img=test_x[idx:idx+1].squeeze()\n",
    "    return plt.imshow(img, cmap=plt.get_cmap('gray'))\n",
    "\n",
    "\n",
    "\n"
   ]
  },
  {
   "cell_type": "code",
   "execution_count": 211,
   "metadata": {},
   "outputs": [],
   "source": [
    "def run_predictions(idx):\n",
    "    result = np.argmax(model.predict(test_x[idx:idx+1]))\n",
    "    print('Prediction: ', result, ', Char: ', mapp[result])\n",
    "    print(\"Label: \", np.argmax(test_y[idx:idx+1]))\n",
    "    img=test_x[idx:idx+1].squeeze()\n"
   ]
  },
  {
   "cell_type": "code",
   "execution_count": 212,
   "metadata": {},
   "outputs": [
    {
     "name": "stdout",
     "output_type": "stream",
     "text": [
      "Prediction:  12 , Char:  67\n",
      "Label:  12\n",
      "Prediction:  26 , Char:  81\n",
      "Label:  44\n",
      "Prediction:  26 , Char:  81\n",
      "Label:  44\n",
      "Prediction:  3 , Char:  51\n",
      "Label:  3\n",
      "Prediction:  8 , Char:  56\n",
      "Label:  8\n",
      "Prediction:  28 , Char:  83\n",
      "Label:  28\n",
      "Prediction:  4 , Char:  52\n",
      "Label:  4\n",
      "Prediction:  39 , Char:  101\n",
      "Label:  39\n",
      "Prediction:  6 , Char:  54\n",
      "Label:  6\n",
      "Prediction:  39 , Char:  101\n",
      "Label:  39\n"
     ]
    }
   ],
   "source": [
    "import random\n",
    "\n",
    "for _ in range(0,10):\n",
    "    idx = random.randint(0, 47-1)\n",
    "    run_predictions(idx)"
   ]
  },
  {
   "cell_type": "code",
   "execution_count": 213,
   "metadata": {},
   "outputs": [
    {
     "name": "stdout",
     "output_type": "stream",
     "text": [
      "Prediction:  39 , Char:  101\n",
      "Label:  39\n"
     ]
    },
    {
     "data": {
      "image/png": "[encoded data removed]",
      "text/plain": [
       "<Figure size 432x288 with 1 Axes>"
      ]
     },
     "metadata": {},
     "output_type": "display_data"
    }
   ],
   "source": [
    "import random\n",
    "\n",
    "for _ in range(1,2):\n",
    "    idx = random.randint(0, 47-1)\n",
    "    run_prediction(idx)\n",
    "    \n",
    "    "
   ]
  },
  {
   "cell_type": "code",
   "execution_count": null,
   "metadata": {},
   "outputs": [],
   "source": [
    "\n"
   ]
  }
 ],
 "metadata": {
  "kernelspec": {
   "display_name": "Python [conda env:self_driving]",
   "language": "python",
   "name": "conda-env-self_driving-py"
  },
  "language_info": {
   "codemirror_mode": {
    "name": "ipython",
    "version": 3
   },
   "file_extension": ".py",
   "mimetype": "text/x-python",
   "name": "python",
   "nbconvert_exporter": "python",
   "pygments_lexer": "ipython3",
   "version": "3.6.4"
  }
 },
 "nbformat": 4,
 "nbformat_minor": 2
}
